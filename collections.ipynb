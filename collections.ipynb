{
 "cells": [
  {
   "cell_type": "markdown",
   "metadata": {},
   "source": [
    "**Counter Object**\n"
   ]
  },
  {
   "cell_type": "code",
   "execution_count": 1,
   "metadata": {},
   "outputs": [
    {
     "name": "stdout",
     "output_type": "stream",
     "text": [
      "Counter({7: 14, 6: 13, 4: 12, 3: 12, 1: 11, 8: 11, 9: 10, 2: 7, 10: 5, 5: 5})\n"
     ]
    }
   ],
   "source": [
    "import random\n",
    "from collections import Counter\n",
    "\n",
    "alist=[random.randint(1,10) for _ in range(100)]\n",
    "\n",
    "print(Counter(alist))"
   ]
  },
  {
   "cell_type": "markdown",
   "metadata": {},
   "source": [
    "**Order Dictionary**"
   ]
  },
  {
   "cell_type": "code",
   "execution_count": 11,
   "metadata": {},
   "outputs": [
    {
     "name": "stdout",
     "output_type": "stream",
     "text": [
      "=== Dictionary ===\n",
      "143,\"female\"-\"group C\"-\"some college\"-\"standard\"-\"completed\"-\"69\"-\"90\"-\"88\"\n",
      "\n",
      "676,\"female\"-\"group B\"-\"bachelor's degree\"-\"standard\"-\"none\"-\"72\"-\"72\"-\"74\"\n",
      "\n",
      "359,\"female\"-\"group B\"-\"master's degree\"-\"standard\"-\"none\"-\"90\"-\"95\"-\"93\"\n",
      "\n",
      "265,\"male\"-\"group C\"-\"some college\"-\"standard\"-\"none\"-\"76\"-\"78\"-\"75\"\n",
      "\n",
      "408,\"male\"-\"group A\"-\"associate's degree\"-\"free/reduced\"-\"none\"-\"47\"-\"57\"-\"44\"\n",
      "\n",
      "\n",
      "\n",
      "0,\"female\"-\"group C\"-\"some college\"-\"standard\"-\"completed\"-\"69\"-\"90\"-\"88\"\n",
      "\n",
      "1,\"female\"-\"group B\"-\"bachelor's degree\"-\"standard\"-\"none\"-\"72\"-\"72\"-\"74\"\n",
      "\n",
      "3,\"male\"-\"group C\"-\"some college\"-\"standard\"-\"none\"-\"76\"-\"78\"-\"75\"\n",
      "\n",
      "4,\"male\"-\"group A\"-\"associate's degree\"-\"free/reduced\"-\"none\"-\"47\"-\"57\"-\"44\"\n",
      "\n",
      "2,\"female\"-\"group B\"-\"master's degree\"-\"standard\"-\"none\"-\"90\"-\"95\"-\"93\"\n",
      "\n"
     ]
    }
   ],
   "source": [
    "from collections import OrderedDict\n",
    "import os,random\n",
    "\n",
    "\n",
    "start=True\n",
    "data=[]\n",
    "n_iter=1\n",
    "with open(os.path.join('','datasets','StudentsPerformance.csv')) as RF:\n",
    "    for line in RF:\n",
    "        if start:\n",
    "            start=False\n",
    "            continue\n",
    "        data.append(line.split(','))\n",
    "        if n_iter==5:\n",
    "            break\n",
    "        n_iter+=1\n",
    "random.shuffle(data)\n",
    "\n",
    "d={random.randint(1,1000):x for index,x in enumerate(data)}\n",
    "\n",
    "print('=== Dictionary ===')\n",
    "for k,v in d.items():\n",
    "    print(f'{k},{\"-\".join(v)}')\n",
    "print('\\n')\n",
    "\n",
    "d1=OrderedDict()\n",
    "for i,k in enumerate(data):\n",
    "    d1[i]=k\n",
    "v=d1[2]\n",
    "d1.pop(2)\n",
    "d1[2]=v\n",
    "for k,v in d1.items():\n",
    "    print(f'{k},{\"-\".join(v)}')\n"
   ]
  },
  {
   "cell_type": "markdown",
   "metadata": {},
   "source": [
    "**Default dict**"
   ]
  },
  {
   "cell_type": "code",
   "execution_count": 12,
   "metadata": {},
   "outputs": [
    {
     "name": "stdout",
     "output_type": "stream",
     "text": [
      "Key:0-->Sum:16973\n",
      "Key:1-->Sum:16363\n",
      "Key:2-->Sum:16506\n"
     ]
    }
   ],
   "source": [
    "from collections import defaultdict\n",
    "import random\n",
    "\n",
    "d=defaultdict(list)\n",
    "\n",
    "for i in range(100):\n",
    "    d[i%3].append(random.randint(1,1000))\n",
    "\n",
    "for i in range(3):\n",
    "    print(f'Key:{i}-->Sum:{sum(d[i])}')"
   ]
  },
  {
   "cell_type": "markdown",
   "metadata": {},
   "source": [
    "**Chaimap**\n"
   ]
  },
  {
   "cell_type": "code",
   "execution_count": 13,
   "metadata": {},
   "outputs": [
    {
     "name": "stdout",
     "output_type": "stream",
     "text": [
      "e:21\n",
      "f:34\n",
      "c:15\n",
      "d:16\n",
      "a:12\n",
      "b:14\n",
      "['e', 'f', 'c', 'd', 'a', 'b']\n",
      "[21, 34, 15, 16, 12, 14]\n"
     ]
    }
   ],
   "source": [
    "from collections import ChainMap\n",
    "\n",
    "d={'a':12,'b':14}\n",
    "d1={'c':15,'d':16}\n",
    "d2={'e':21,'f':34}\n",
    "\n",
    "cmap=ChainMap(d,d1,d2)\n",
    "\n",
    "for k,v in cmap.items():\n",
    "    print(f'{k}:{v}')\n",
    "\n",
    "print(list(cmap.keys()))\n",
    "print(list(cmap.values()))\n"
   ]
  },
  {
   "cell_type": "markdown",
   "metadata": {},
   "source": [
    "**Named Tuple**"
   ]
  },
  {
   "cell_type": "code",
   "execution_count": null,
   "metadata": {},
   "outputs": [],
   "source": [
    "## Use StudentsPerformance Dataset\n",
    "from collections import namedtuple\n",
    "\n",
    "Student=namedtuple(\"Student\",['gender'])"
   ]
  }
 ],
 "metadata": {
  "interpreter": {
   "hash": "69eb92836b941e979072a76c7fcfffe5419cca933cedd02cfafbdfca1a93358c"
  },
  "kernelspec": {
   "display_name": "Python 3.9.10 64-bit",
   "language": "python",
   "name": "python3"
  },
  "language_info": {
   "codemirror_mode": {
    "name": "ipython",
    "version": 3
   },
   "file_extension": ".py",
   "mimetype": "text/x-python",
   "name": "python",
   "nbconvert_exporter": "python",
   "pygments_lexer": "ipython3",
   "version": "3.9.7"
  },
  "orig_nbformat": 4
 },
 "nbformat": 4,
 "nbformat_minor": 2
}
